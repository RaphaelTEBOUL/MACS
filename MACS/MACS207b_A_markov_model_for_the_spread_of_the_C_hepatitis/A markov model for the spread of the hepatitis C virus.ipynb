{
 "cells": [
  {
   "cell_type": "markdown",
   "metadata": {},
   "source": [
    "# A MARKOV MODEL FOR THE SPREAD OF HEPATISIS C VIRUS"
   ]
  },
  {
   "cell_type": "code",
   "execution_count": 1,
   "metadata": {},
   "outputs": [],
   "source": [
    "import numpy as np\n",
    "\n",
    "from scipy.stats import expon\n",
    "from scipy.interpolate import interp1d\n",
    "\n",
    "import matplotlib.pyplot as plt\n",
    "\n",
    "from time import time\n",
    "\n",
    "time_notebook = time()"
   ]
  },
  {
   "cell_type": "code",
   "execution_count": 2,
   "metadata": {},
   "outputs": [],
   "source": [
    "# Parameter used\n",
    "alpha = 1\n",
    "mu1 = .1\n",
    "mu2 = .2\n",
    "r = 1\n",
    "lbda = 5\n",
    "pI = .8\n",
    "N = 100"
   ]
  },
  {
   "cell_type": "markdown",
   "metadata": {},
   "source": [
    "## Limit of the deterministic differential system"
   ]
  },
  {
   "cell_type": "code",
   "execution_count": 3,
   "metadata": {},
   "outputs": [],
   "source": [
    "def sol_lim(p, alpha=alpha, mu1=mu1, mu2=mu2, r=r, lbda=lbda, pI=pI):\n",
    "    a = alpha*p - mu1 + mu2\n",
    "    b = r + lbda\n",
    "    c = r*mu1 + lbda*(1 - pI)*mu2\n",
    "    \n",
    "    s1 = (a*b - c + np.sign(a)*np.sqrt((a*b - c)**2 + 4*a*b*r*mu1))/(2*a*mu1)\n",
    "    s2 = (b - mu1*s1)/mu2\n",
    "    \n",
    "    return s1, s2"
   ]
  },
  {
   "cell_type": "code",
   "execution_count": 4,
   "metadata": {},
   "outputs": [
    {
     "name": "stdout",
     "output_type": "stream",
     "text": [
      "57.81967668825687 1.0901616558715643\n"
     ]
    }
   ],
   "source": [
    "p = 0.8\n",
    "s1, s2 = sol_lim(p)\n",
    "print(s1, s2)"
   ]
  },
  {
   "cell_type": "markdown",
   "metadata": {},
   "source": [
    "# Markov modelization"
   ]
  },
  {
   "cell_type": "code",
   "execution_count": 5,
   "metadata": {},
   "outputs": [],
   "source": [
    "def q1(n1, n2, r=r, lbda=lbda, pI=pI):\n",
    "    if n1 + n2 == 0: # convention 0/0 = 0\n",
    "        return r\n",
    "    return r + lbda*pI*n1/(n1+n2)\n",
    "\n",
    "def q2(n1, n2, mu1=mu1):\n",
    "    return mu1 * n1\n",
    "\n",
    "def q3(n1, n2, p, alpha=alpha):\n",
    "    return alpha * p * n2 * n1 / (n1 + n2)\n",
    "\n",
    "def q4(n1, n2, lbda=lbda, pI=pI):\n",
    "    if n1 + n2 == 0: # convention 0/0 = 0\n",
    "        return r\n",
    "    return lbda * (1 - pI * n1 / (n1 + n2))\n",
    "\n",
    "def q5(n1, n2, mu2=mu2):\n",
    "    return mu2 * n2\n"
   ]
  },
  {
   "cell_type": "code",
   "execution_count": 6,
   "metadata": {},
   "outputs": [],
   "source": [
    "def make_transition(n1, n2, transi):\n",
    "    \"\"\"\n",
    "    Actualize n1 and n2 according to the transition\n",
    "    \"\"\"\n",
    "    if transi == 0:\n",
    "        return (n1 + 1, n2)\n",
    "    elif transi == 1:\n",
    "        return (n1 - 1, n2)\n",
    "    elif transi == 2:\n",
    "        return (n1 + 1, n2 - 1)\n",
    "    elif transi == 3:\n",
    "        return (n1, n2 + 1)\n",
    "    elif transi == 4:\n",
    "        return (n1, n2 - 1)"
   ]
  },
  {
   "cell_type": "code",
   "execution_count": 7,
   "metadata": {},
   "outputs": [],
   "source": [
    "def gen_transition(n1, n2, p, alpha=alpha, mu1=mu1, mu2=mu2, r=r, lbda=lbda, pI=pI, N=N):\n",
    "    \"\"\"\n",
    "    Take the first possible that comes according to random variables taken for each law \n",
    "    \"\"\"\n",
    "    a1 = q1(n1, n2, r=r, lbda=lbda, pI=pI)\n",
    "    a4 = q4(n1, n2, lbda=lbda, pI=pI)\n",
    " \n",
    "    r = [np.inf for _ in range(5)]\n",
    "    r[0] = expon.rvs(scale=1./a1)\n",
    "    r[3] = expon.rvs(scale=1./a4)\n",
    "    \n",
    "    if n1 > 0 and n2 > 0:\n",
    "        a3 = q3(n1, n2, p, alpha=alpha)\n",
    "        r[2] = expon.rvs(scale=1./a3)\n",
    "    if n1 > 0: # possible for n1 to diminish\n",
    "        a2 = q2(n1, n2, mu1=mu1)\n",
    "        r[1] = expon.rvs(scale=1./a2)\n",
    "    if n2 > 0: # possible for n2 to diminish       \n",
    "        a5 = q5(n1, n2, mu2=mu2)\n",
    "        r[4] = expon.rvs(scale=1./a5)\n",
    "\n",
    "    transi = np.argmin(r)\n",
    "    return (transi, r[transi])"
   ]
  },
  {
   "cell_type": "code",
   "execution_count": 8,
   "metadata": {},
   "outputs": [],
   "source": [
    "def trajectory(n1_start, n2_start, T, p, alpha=alpha, mu1=mu1, mu2=mu2, r=r, lbda=lbda, pI=pI, N=N):\n",
    "    t = 0\n",
    "    times = [0]\n",
    "    n1, n2 = n1_start, n2_start\n",
    "    X1, X2 = [n1], [n2]\n",
    "    while t < T:\n",
    "        # we keep the first one after T for interpolating until T\n",
    "        transi, dt = gen_transition(n1, n2, p, alpha=alpha, mu1=mu1, mu2=mu2, r=r, lbda=lbda, pI=pI, N=N)\n",
    "        t += dt\n",
    "        n1, n2 = make_transition(n1, n2, transi)\n",
    "        X1.append(n1)\n",
    "        X2.append(n2)\n",
    "        times.append(t)\n",
    "        \n",
    "    return X1, X2, times"
   ]
  },
  {
   "cell_type": "code",
   "execution_count": 9,
   "metadata": {},
   "outputs": [],
   "source": [
    "X1, X2, t = trajectory(100, 100, 1000, 0.8)"
   ]
  },
  {
   "cell_type": "code",
   "execution_count": 10,
   "metadata": {},
   "outputs": [
    {
     "data": {
      "image/png": "[encoded data removed]",
      "text/plain": [
       "<matplotlib.figure.Figure at 0x1085b6b38>"
      ]
     },
     "metadata": {},
     "output_type": "display_data"
    }
   ],
   "source": [
    "fig1 = plt.figure()\n",
    "plt.plot(t, X1, label='X1')\n",
    "plt.plot(t, X2, label='X2')\n",
    "plt.plot(t, X1, label='X1', color='blue')\n",
    "plt.plot(t, X2, label='X2', color='green')\n",
    "plt.axhline(y=s1, label='S1', color='orange')\n",
    "plt.axhline(y=s2, label='S2', color='yellow')\n",
    "plt.xlabel('t')\n",
    "plt.legend()\n",
    "plt.title('Markov Process simulation 1')\n",
    "plt.show()"
   ]
  },
  {
   "cell_type": "code",
   "execution_count": 11,
   "metadata": {},
   "outputs": [],
   "source": [
    "# saving plot to file\n",
    "fig1.set_size_inches(10, 10)  # 1 inch = 2.54cm\n",
    "fig1.savefig('markov_simulation_1.png', bbox_inches='tight')\n"
   ]
  },
  {
   "cell_type": "code",
   "execution_count": 12,
   "metadata": {},
   "outputs": [],
   "source": [
    "def prevalence(n1_start, n2_start, T, p, n_trajectories=10000, alpha=alpha, mu1=mu1, mu2=mu2, r=r, lbda=lbda, pI=pI, N=N):\n",
    "        trajectories = [trajectory(n1_start, n2_start, T, p, alpha=alpha, mu1=mu1, mu2=mu2, r=r, lbda=lbda, pI=pI, N=N) \\\n",
    "                          for _ in range(n_trajectories)] \n",
    "        prev = np.sum([(x1[-1] / (x1[-1] + x2[-1])) for x1, x2, _ in trajectories]) / n_trajectories\n",
    "        return prev"
   ]
  },
  {
   "cell_type": "code",
   "execution_count": 13,
   "metadata": {},
   "outputs": [],
   "source": [
    "# Fastest simulation\n",
    "\n",
    "def rv(dp):\n",
    "    \"\"\"\n",
    "    Generate a random variable according to a discrete probability distribution :\n",
    "        dp = [ p(i) ]_i\n",
    "    \"\"\"\n",
    "    v = np.random.rand()\n",
    "    cdf = np.cumsum(dp)\n",
    "    i = 0\n",
    "    while i < len(dp) and v > cdf[i]:\n",
    "        i += 1\n",
    "    return i\n",
    "\n",
    "def gen_transition2(n1, n2, p, alpha=alpha, mu1=mu1, mu2=mu2, r=r, lbda=lbda, pI=pI, N=N):\n",
    "        \"\"\"\n",
    "        This method use two random variables :\n",
    "        the exponential for the time before next transition (the min of all exponentials involved)\n",
    "        one for selecting the transition\n",
    "        \"\"\"\n",
    "        v = np.random.rand() # for the transition selection\n",
    "        # 1 and 4 are always possible\n",
    "        a1 = q1(n1, n2, r=r, lbda=lbda, pI=pI)\n",
    "        a4 = q4(n1, n2, lbda=lbda, pI=pI)\n",
    "        dp = np.array([a1, 0, 0, a4, 0])\n",
    "        a = a1 + a4\n",
    "        if n1 > 0:\n",
    "            a2 = q2(n1, n2, mu1=mu1)\n",
    "            a += a2\n",
    "            dp[1] = a2\n",
    "        if n2 > 0:\n",
    "            a3 = q3(n1, n2, p, alpha=alpha)\n",
    "            a5 = q5(n1, n2, mu2=mu2)\n",
    "            a += a3 + a5\n",
    "            dp[2] = a3\n",
    "            dp[4] = a5\n",
    "        dp /= a # making dp a probability distribution between transitions\n",
    "        transi = rv(dp)\n",
    "        # time before next transition\n",
    "        t = expon.rvs(scale=1./a)\n",
    "        return transi, t\n",
    "\n",
    "def trajectory2(n1_start, n2_start, T, p, alpha=alpha, mu1=mu1, mu2=mu2, r=r, lbda=lbda, pI=pI, N=N):\n",
    "    t = 0\n",
    "    times = [0]\n",
    "    n1, n2 = n1_start, n2_start\n",
    "    X1, X2 = [n1], [n2]\n",
    "    while t < T:\n",
    "        # we keep the first one after T for interpolating until T\n",
    "        transi, dt = gen_transition2(n1, n2, p, alpha=alpha, mu1=mu1, mu2=mu2, r=r, lbda=lbda, pI=pI, N=N)\n",
    "        t += dt\n",
    "        n1, n2 = make_transition(n1, n2, transi)\n",
    "        X1.append(n1)\n",
    "        X2.append(n2)\n",
    "        times.append(t)\n",
    "        \n",
    "    return X1, X2, times\n",
    "\n",
    "def prevalence2(n1_start, n2_start, T, p, n_trajectories=10000, alpha=alpha, mu1=mu1, mu2=mu2, r=r, lbda=lbda, pI=pI, N=N):\n",
    "        trajectories = [trajectory2(n1_start, n2_start, T, p, alpha=alpha, mu1=mu1, mu2=mu2, r=r, lbda=lbda, pI=pI, N=N) \\\n",
    "                          for _ in range(n_trajectories)] \n",
    "        prev = np.mean([(x1[-1] / (x1[-1] + x2[-1])) for (x1, x2, _) in trajectories])\n",
    "        return prev, trajectories"
   ]
  },
  {
   "cell_type": "code",
   "execution_count": 14,
   "metadata": {},
   "outputs": [
    {
     "data": {
      "image/png": "[encoded data removed]",
      "text/plain": [
       "<matplotlib.figure.Figure at 0x10bc37438>"
      ]
     },
     "metadata": {},
     "output_type": "display_data"
    }
   ],
   "source": [
    "X1, X2, t = trajectory2(100, 100, 1000, p)\n",
    "fig2 = plt.figure()\n",
    "plt.plot(t, X1, label='X1', color='blue')\n",
    "plt.plot(t, X2, label='X2', color='green')\n",
    "plt.axhline(y=s1, label='S1', color='red')\n",
    "plt.axhline(y=s2, label='S2', color='yellow')\n",
    "plt.xlabel('t')\n",
    "plt.title('Markov Process simulation 2 (faster)')\n",
    "plt.legend()\n",
    "plt.show()\n"
   ]
  },
  {
   "cell_type": "code",
   "execution_count": 15,
   "metadata": {},
   "outputs": [],
   "source": [
    "# saving plot to file\n",
    "fig2.set_size_inches(10, 10)  # 1 inch = 2.54cm\n",
    "fig2.savefig('markov_simulation_2.png', bbox_inches='tight')"
   ]
  },
  {
   "cell_type": "markdown",
   "metadata": {},
   "source": [
    "# Prevalence calculation by simulation"
   ]
  },
  {
   "cell_type": "code",
   "execution_count": 16,
   "metadata": {},
   "outputs": [],
   "source": [
    "# Took 300 sec\n",
    "# result = 0.98161935019830893\n",
    "execute = False\n",
    "if execute:\n",
    "    K = 1000\n",
    "    t = time()\n",
    "    prev = [prevalence(50, 50, 100, 0.8) for i in range(K)]   \n",
    "    t = time() - t\n",
    "    print(t)\n",
    "    np.mean(prev)"
   ]
  },
  {
   "cell_type": "code",
   "execution_count": 17,
   "metadata": {},
   "outputs": [],
   "source": [
    "# Took 3065 sec for a difference of order 10^-3 so 1000 trajectories will be sufficient...\n",
    "# result : 0.98124351597952064\n",
    "execute = False\n",
    "if execute: \n",
    "    K = 10000\n",
    "    t = time()\n",
    "    prev10000 = [prevalence(50, 50, 100, 0.8) for i in range(K)]   \n",
    "    t = time() - t\n",
    "    print(t)\n",
    "    np.mean(prev10000)"
   ]
  },
  {
   "cell_type": "markdown",
   "metadata": {},
   "source": [
    "# Influence of p on prevalence"
   ]
  },
  {
   "cell_type": "code",
   "execution_count": 18,
   "metadata": {},
   "outputs": [
    {
     "name": "stdout",
     "output_type": "stream",
     "text": [
      "0.0008313655853271484\n"
     ]
    }
   ],
   "source": [
    "# deterministic model\n",
    "p_vals_det = np.arange(0, 1, .01)\n",
    "prevalence_f = lambda x: x[0]/(x[0] + x[1])\n",
    "t = time()\n",
    "prev_det = [prevalence_f(sol_lim(p)) for p in p_vals_det]\n",
    "t = time() - t\n",
    "print(t)"
   ]
  },
  {
   "cell_type": "code",
   "execution_count": null,
   "metadata": {},
   "outputs": [],
   "source": [
    "# simulation\n",
    "K = 100\n",
    "p_vals_sim = np.arange(.1, 1, .1)\n",
    "t = time()\n",
    "prev_sim = [np.mean([prevalence(50, 50, 100, p) for _ in range(K)]) for p in p_vals_sim]   \n",
    "t = time() - t\n",
    "print(t)"
   ]
  },
  {
   "cell_type": "code",
   "execution_count": null,
   "metadata": {},
   "outputs": [],
   "source": [
    "fig3 = plt.figure()\n",
    "plt.plot(p_vals_det, prev_det, label='Deterministic', color='blue')\n",
    "plt.scatter(p_vals_sim, prev_sim, label='Simulated', color='orange')\n",
    "plt.legend()\n",
    "plt.xlabel('p')\n",
    "plt.ylabel('prevalence')\n",
    "plt.title('Influence of p on prevalence')\n",
    "plt.show()"
   ]
  },
  {
   "cell_type": "code",
   "execution_count": null,
   "metadata": {},
   "outputs": [],
   "source": [
    "# saving plot to file\n",
    "fig3.set_size_inches(10, 10)  # 1 inch = 2.54cm\n",
    "fig3.savefig('prevalence.png', bbox_inches='tight')"
   ]
  },
  {
   "cell_type": "code",
   "execution_count": null,
   "metadata": {},
   "outputs": [],
   "source": [
    "time_notebook = time() - time_notebook\n",
    "print('Notebook executed in %ds' % time_notebook)"
   ]
  },
  {
   "cell_type": "code",
   "execution_count": null,
   "metadata": {},
   "outputs": [],
   "source": []
  }
 ],
 "metadata": {
  "kernelspec": {
   "display_name": "Python 3",
   "language": "python",
   "name": "python3"
  },
  "language_info": {
   "codemirror_mode": {
    "name": "ipython",
    "version": 3
   },
   "file_extension": ".py",
   "mimetype": "text/x-python",
   "name": "python",
   "nbconvert_exporter": "python",
   "pygments_lexer": "ipython3",
   "version": "3.6.4"
  }
 },
 "nbformat": 4,
 "nbformat_minor": 2
}
